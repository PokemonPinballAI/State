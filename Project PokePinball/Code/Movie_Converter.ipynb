{
 "cells": [
  {
   "cell_type": "code",
   "execution_count": 1,
   "metadata": {},
   "outputs": [],
   "source": [
    "import retro\n",
    "\n",
    "movie = retro.Movie('PokemonPinball-Gbc-GameStart-000000.bk2') #update this to the file you wish to convert, you have to reset Jupyter each time you convert a new file\n",
    "movie.step()\n",
    "\n",
    "env = retro.make(game=movie.get_game(), state=None, \n",
    "                 use_restricted_actions=retro.Actions.ALL, players=movie.players)\n",
    "env.initial_state = movie.get_state()\n",
    "env.reset()\n",
    "\n",
    "while movie.step():\n",
    "    keys = []\n",
    "    for p in range(movie.players):\n",
    "        for i in range(env.num_buttons):\n",
    "            keys.append(movie.get_key(i, p))\n",
    "    _obs, _rew, _done, _info = env.step(keys)\n",
    "\n"
   ]
  },
  {
   "cell_type": "code",
   "execution_count": null,
   "metadata": {},
   "outputs": [],
   "source": []
  },
  {
   "cell_type": "code",
   "execution_count": null,
   "metadata": {},
   "outputs": [],
   "source": []
  },
  {
   "cell_type": "markdown",
   "metadata": {},
   "source": [
    "How to get a movie:\n",
    "\n",
    "    Have ffmpeg installed.\n",
    "\n",
    "    Navigate to your project folder.\n",
    "    Run this in anaconda:\n",
    "\n",
    "    python -m retro.scripts.playback_movie PokemonPinball-Gbc-GameStart-000000.bk2\n",
    "\n",
    "    Change movie number as needed."
   ]
  },
  {
   "cell_type": "code",
   "execution_count": null,
   "metadata": {},
   "outputs": [],
   "source": []
  },
  {
   "cell_type": "code",
   "execution_count": null,
   "metadata": {},
   "outputs": [],
   "source": []
  }
 ],
 "metadata": {
  "kernelspec": {
   "display_name": "Python 3",
   "language": "python",
   "name": "python3"
  },
  "language_info": {
   "codemirror_mode": {
    "name": "ipython",
    "version": 3
   },
   "file_extension": ".py",
   "mimetype": "text/x-python",
   "name": "python",
   "nbconvert_exporter": "python",
   "pygments_lexer": "ipython3",
   "version": "3.6.7"
  }
 },
 "nbformat": 4,
 "nbformat_minor": 2
}
